{
 "cells": [
  {
   "cell_type": "code",
   "execution_count": null,
   "metadata": {},
   "outputs": [],
   "source": [
    "code_file = \"python.txt\""
   ]
  },
  {
   "cell_type": "code",
   "execution_count": null,
   "metadata": {},
   "outputs": [],
   "source": [
    "import random\n",
    "\n",
    "random_line = \"\"\n",
    "with open(code_file, \"r\") as f:\n",
    "    random_line = random.choice(f.readlines())\n",
    "    \n",
    "random_line"
   ]
  },
  {
   "cell_type": "code",
   "execution_count": 11,
   "metadata": {},
   "outputs": [
    {
     "data": {
      "text/plain": [
       "array([-1., -1.])"
      ]
     },
     "execution_count": 11,
     "metadata": {},
     "output_type": "execute_result"
    }
   ],
   "source": [
    "import numpy as np\n",
    "\n",
    "def calculate_rotation(coords: np.array, rotation: int) -> np.array:\n",
    "    \"\"\"\n",
    "    coords: (4, 2) np array consisting of 4 corners of rectangle to be rotated\n",
    "    rotation: degrees\n",
    "    \"\"\"\n",
    "    radians = -np.pi * (rotation / 180)\n",
    "    center = np.sum(coords, axis=0)/4\n",
    "\n",
    "    print(radians)\n",
    "    print(center)\n",
    "    \n",
    "    coords -= center\n",
    "\n",
    "    rot = np.array([[np.cos(radians), -np.sin(radians)], [np.sin(radians), np.cos(radians)]])\n",
    "\n",
    "    applied_rotation = (np.matmul(rot, coords.T)).T\n",
    "\n",
    "    applied_rotation += center\n",
    "\n",
    "    return applied_rotation\n",
    "\n",
    "\n",
    "test = np.array([[-1, -1], [-1, 1], [1, -1], [1, 1]]).astype(\"float\")\n",
    "test[0, :]"
   ]
  },
  {
   "cell_type": "code",
   "execution_count": null,
   "metadata": {},
   "outputs": [],
   "source": [
    "unicode_codes = [\"u\"+str(hex(ord(char)))[2:] for char in random_line.strip()]\n",
    "unicode_codes"
   ]
  },
  {
   "cell_type": "code",
   "execution_count": null,
   "metadata": {},
   "outputs": [],
   "source": [
    "import matplotlib.pyplot as plt\n",
    "import os\n",
    "from PIL import Image\n",
    "import numpy as np\n",
    "\n",
    "def get_random_character(unicode):\n",
    "    folder = f\"../processed/{unicode}\"\n",
    "    img = random.choice(os.listdir(folder))\n",
    "    img_path = os.path.join(folder, img)\n",
    "    \n",
    "    return img_path\n",
    "\n",
    "def get_concat_h(im1, im2):\n",
    "    dst = Image.new('RGB', (im1.width + im2.width, im1.height))\n",
    "    dst.paste(im1, (0, 0))\n",
    "    dst.paste(im2, (im1.width, 0))\n",
    "    return dst\n",
    "    \n",
    "def space():\n",
    "    return Image.new(mode=\"L\", size=(64, 64), color=255)\n",
    "\n",
    "def preview_character(img):\n",
    "    plt.figure(figsize=(50,20))\n",
    "    plt.imshow(img)\n",
    "    plt.axis(\"off\")\n",
    "    plt.show()\n",
    "    \n",
    "\n",
    "for i, character in enumerate(unicode_codes):\n",
    "    if character == \"u20\":\n",
    "        temp = space()\n",
    "    else:\n",
    "        temp = Image.open(get_random_character(character))\n",
    "    \n",
    "    if i == 0:\n",
    "        final_img = temp\n",
    "    else:\n",
    "        final_img = get_concat_h(final_img, temp)\n",
    "\n",
    "preview_character(final_img)"
   ]
  }
 ],
 "metadata": {
  "kernelspec": {
   "display_name": ".venv",
   "language": "python",
   "name": "python3"
  },
  "language_info": {
   "codemirror_mode": {
    "name": "ipython",
    "version": 3
   },
   "file_extension": ".py",
   "mimetype": "text/x-python",
   "name": "python",
   "nbconvert_exporter": "python",
   "pygments_lexer": "ipython3",
   "version": "3.12.7"
  }
 },
 "nbformat": 4,
 "nbformat_minor": 2
}
