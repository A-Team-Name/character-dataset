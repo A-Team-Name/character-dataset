{
 "cells": [
  {
   "cell_type": "code",
   "execution_count": null,
   "metadata": {},
   "outputs": [],
   "source": [
    "code_file = \"python.txt\""
   ]
  },
  {
   "cell_type": "code",
   "execution_count": null,
   "metadata": {},
   "outputs": [],
   "source": [
    "import random\n",
    "\n",
    "random_line = \"\"\n",
    "with open(code_file, \"r\") as f:\n",
    "    random_line = random.choice(f.readlines())\n",
    "    \n",
    "random_line"
   ]
  },
  {
   "cell_type": "code",
   "execution_count": null,
   "metadata": {},
   "outputs": [],
   "source": [
    "unicode_codes = [\"u\"+str(hex(ord(char)))[2:] for char in random_line.strip()]\n",
    "unicode_codes"
   ]
  },
  {
   "cell_type": "code",
   "execution_count": null,
   "metadata": {},
   "outputs": [],
   "source": [
    "import matplotlib.pyplot as plt\n",
    "import os\n",
    "from PIL import Image\n",
    "import numpy as np\n",
    "\n",
    "def get_random_character(unicode):\n",
    "    folder = f\"../processed/{unicode}\"\n",
    "    img = random.choice(os.listdir(folder))\n",
    "    img_path = os.path.join(folder, img)\n",
    "    \n",
    "    return img_path\n",
    "\n",
    "def get_concat_h(im1, im2):\n",
    "    dst = Image.new('RGB', (im1.width + im2.width, im1.height))\n",
    "    dst.paste(im1, (0, 0))\n",
    "    dst.paste(im2, (im1.width, 0))\n",
    "    return dst\n",
    "    \n",
    "def space():\n",
    "    return Image.new(mode=\"L\", size=(64, 64), color=255)\n",
    "\n",
    "def preview_character(img):\n",
    "    plt.figure(figsize=(50,20))\n",
    "    plt.imshow(img)\n",
    "    plt.axis(\"off\")\n",
    "    plt.show()\n",
    "    \n",
    "\n",
    "for i, character in enumerate(unicode_codes):\n",
    "    if character == \"u20\":\n",
    "        temp = space()\n",
    "    else:\n",
    "        temp = Image.open(get_random_character(character))\n",
    "    \n",
    "    if i == 0:\n",
    "        final_img = temp\n",
    "    else:\n",
    "        final_img = get_concat_h(final_img, temp)\n",
    "\n",
    "preview_character(final_img)"
   ]
  }
 ],
 "metadata": {
  "kernelspec": {
   "display_name": ".venv",
   "language": "python",
   "name": "python3"
  },
  "language_info": {
   "codemirror_mode": {
    "name": "ipython",
    "version": 3
   },
   "file_extension": ".py",
   "mimetype": "text/x-python",
   "name": "python",
   "nbconvert_exporter": "python",
   "pygments_lexer": "ipython3",
   "version": "3.11.7"
  }
 },
 "nbformat": 4,
 "nbformat_minor": 2
}
